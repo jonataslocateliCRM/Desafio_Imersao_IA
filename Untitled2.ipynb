{
  "nbformat": 4,
  "nbformat_minor": 0,
  "metadata": {
    "colab": {
      "provenance": [],
      "authorship_tag": "ABX9TyOtscPjZZiNC9P8zqRLzAsx",
      "include_colab_link": true
    },
    "kernelspec": {
      "name": "python3",
      "display_name": "Python 3"
    },
    "language_info": {
      "name": "python"
    }
  },
  "cells": [
    {
      "cell_type": "markdown",
      "metadata": {
        "id": "view-in-github",
        "colab_type": "text"
      },
      "source": [
        "<a href=\"https://colab.research.google.com/github/jonataslocateliCRM/Desafio_Imersao_IA/blob/main/Untitled2.ipynb\" target=\"_parent\"><img src=\"https://colab.research.google.com/assets/colab-badge.svg\" alt=\"Open In Colab\"/></a>"
      ]
    },
    {
      "cell_type": "code",
      "execution_count": 1,
      "metadata": {
        "id": "mXUaypE9Ns4p"
      },
      "outputs": [],
      "source": [
        "!pip install -q -U google-generativeai"
      ]
    },
    {
      "cell_type": "code",
      "source": [
        "import google.generativeai as genai\n",
        "from google.colab import userdata\n",
        "api_key = userdata.get('SECRET_KEY')\n",
        "genai.configure(api_key=api_key)"
      ],
      "metadata": {
        "id": "0d3QGgJvNt8X"
      },
      "execution_count": 2,
      "outputs": []
    },
    {
      "cell_type": "markdown",
      "source": [
        "Confgurações básicas"
      ],
      "metadata": {
        "id": "GjA2nFbvOKzA"
      }
    },
    {
      "cell_type": "code",
      "source": [
        "generation_config = {\n",
        "    \"candidate_count\": 1,\n",
        "    \"temperature\": 0.5,\n",
        "}"
      ],
      "metadata": {
        "id": "cVYlNIu5NvtL"
      },
      "execution_count": 3,
      "outputs": []
    },
    {
      "cell_type": "code",
      "source": [
        "safety_settings = {\n",
        "    \"HARASSMENT\": \"BLOCK_NONE\",\n",
        "    \"HATE\": \"BLOCK_NONE\",\n",
        "    \"SEXUAL\": \"BLOCK_NONE\",\n",
        "    \"DANGEROUS\": \"BLOCK_NONE\",\n",
        "}"
      ],
      "metadata": {
        "id": "4x8kNftOOQQJ"
      },
      "execution_count": 4,
      "outputs": []
    },
    {
      "cell_type": "markdown",
      "source": [
        "Inicializando o modelo"
      ],
      "metadata": {
        "id": "2VWyTAuWOUtM"
      }
    },
    {
      "cell_type": "code",
      "source": [
        "model = genai.GenerativeModel(model_name=\"gemini-1.0-pro\",\n",
        "                              generation_config=generation_config,\n",
        "                              safety_settings=safety_settings)"
      ],
      "metadata": {
        "id": "NZCJBeHkOSPn"
      },
      "execution_count": 5,
      "outputs": []
    },
    {
      "cell_type": "markdown",
      "source": [
        "Início da recursão para as perguntas e geração do resultado"
      ],
      "metadata": {
        "id": "CqTHV1l8PNOx"
      }
    },
    {
      "cell_type": "code",
      "source": [
        "chat = model.start_chat(history=[])\n",
        "contador = 1\n",
        "texto = ''\n",
        "\n",
        "while contador<16:\n",
        "  if contador==1:\n",
        "    prompt = input(\"Imagine que você tem todo o tempo e dinheiro do mundo. O que você faria da sua vida? \")\n",
        "    texto = texto + '.' + prompt\n",
        "  if contador==2:\n",
        "    prompt = input(\"Quais atividades te fazem perder a noção do tempo? \")\n",
        "    texto = texto + '.' + prompt\n",
        "  if contador==3:\n",
        "    prompt = input(\"Se você pudesse aprender qualquer coisa, qual seria? \")\n",
        "    texto = texto + '.' + prompt\n",
        "  if contador==4:\n",
        "    prompt = input(\"Que tipo de trabalho te faria saltar da cama animado pela manhã? \")\n",
        "    texto = texto + '.' + prompt\n",
        "  if contador==5:\n",
        "    prompt = input(\"Em quais áreas você se destaca e recebe elogios? \")\n",
        "    texto = texto + '.' + prompt\n",
        "  if contador==6:\n",
        "    prompt = input(\"Quais habilidades você já desenvolveu, seja em hobbies, estudos ou trabalhos anteriores? \")\n",
        "    texto = texto + '.' + prompt\n",
        "  if contador==7:\n",
        "    prompt = input(\"O que você faz melhor do que a maioria das pessoas? \")\n",
        "    texto = texto + '.' + prompt\n",
        "  if contador==8:\n",
        "    prompt = input(\"Que tipo de tarefas você realiza com facilidade e prazer? \")\n",
        "    texto = texto + '.' + prompt\n",
        "  if contador==9:\n",
        "    prompt = input(\"O que é realmente importante para você na vida? (Ex: Criatividade, impacto social, autonomia, etc.) \")\n",
        "    texto = texto + '.' + prompt\n",
        "  if contador==10:\n",
        "    prompt = input(\"Como você imagina o seu dia a dia ideal em termos de ambiente, ritmo e relações? \")\n",
        "    texto = texto + '.' + prompt\n",
        "  if contador==11:\n",
        "    prompt = input(\"Que tipo de impacto você deseja ter na vida das pessoas e na sociedade? \")\n",
        "    texto = texto + '.' + prompt\n",
        "  if contador==12:\n",
        "    prompt = input(\"Quais profissões te despertam curiosidade e admiração? \")\n",
        "    texto = texto + '.' + prompt\n",
        "  if contador==13:\n",
        "    prompt = input(\"Que áreas de atuação te atraem? (Ex: Tecnologia, artes, saúde, educação, etc.) \")\n",
        "    texto = texto + '.' + prompt\n",
        "  if contador==14:\n",
        "    prompt = input(\"Quais são seus maiores medos e dúvidas em relação ao futuro profissional? \")\n",
        "    texto = texto + '.' + prompt\n",
        "  if contador==15:\n",
        "    response = chat.send_message(texto+\". Com base nessas afirmações, qual é a minha vocação profissional?\")\n",
        "    print(\"Resultado do teste: \",response.text, \"\\n\")\n",
        "  contador = contador + 1"
      ],
      "metadata": {
        "colab": {
          "base_uri": "https://localhost:8080/",
          "height": 399
        },
        "id": "sKxYadJzPLNf",
        "outputId": "0d8e3a51-c68e-4f3e-a1e3-7fbe748d5dad"
      },
      "execution_count": 12,
      "outputs": [
        {
          "output_type": "stream",
          "name": "stdout",
          "text": [
            "Imagine que você tem todo o tempo e dinheiro do mundo. O que você faria da sua vida? faria muitas viagens pelo mundo\n",
            "Quais atividades te fazem perder a noção do tempo? passar tempo com minha família\n",
            "Se você pudesse aprender qualquer coisa, qual seria? algo sobre tecnologia\n",
            "Que tipo de trabalho te faria saltar da cama animado pela manhã? trabalhar em algo que mude a vida das pessoas\n",
            "Em quais áreas você se destaca e recebe elogios? tudo o que envolve criatividade\n",
            "Quais habilidades você já desenvolveu, seja em hobbies, estudos ou trabalhos anteriores? sou bom em esportes\n",
            "O que você faz melhor do que a maioria das pessoas? resolver problemas complexos\n",
            "Que tipo de tarefas você realiza com facilidade e prazer? ensinar as pessoas\n",
            "O que é realmente importante para você na vida? (Ex: Criatividade, impacto social, autonomia, etc.) impacto social\n",
            "Como você imagina o seu dia a dia ideal em termos de ambiente, ritmo e relações? um ambiente leve, com ritmo calmo e boas relações\n",
            "Que tipo de impacto você deseja ter na vida das pessoas e na sociedade? mudança na vida das pessoas\n",
            "Quais profissões te despertam curiosidade e admiração? médico\n",
            "Que áreas de atuação te atraem? (Ex: Tecnologia, artes, saúde, educação, etc.) tecnologia\n",
            "Quais são seus maiores medos e dúvidas em relação ao futuro profissional? sou muito calmo\n",
            "Com base nas minhas afirmações, qual é a minha vocação profissional?nada\n",
            "Resultado do teste:  Com base nas afirmações fornecidas, sua vocação profissional pode estar relacionada às seguintes áreas:\n",
            "\n",
            "* **Medicina:** Interesse em impactar a vida das pessoas, resolver problemas complexos e ensinar.\n",
            "* **Tecnologia:** Interesse em tecnologia e seu potencial para mudar vidas.\n",
            "* **Educação:** Interesse em ensinar, impactar a vida das pessoas e trabalhar em um ambiente leve e colaborativo.\n",
            "* **Empreendedorismo social:** Interesse em criar mudanças sociais positivas e trabalhar em um ambiente com ritmo calmo e boas relações. \n",
            "\n"
          ]
        }
      ]
    },
    {
      "cell_type": "code",
      "source": [],
      "metadata": {
        "id": "Rz0xYqsPP_Ts"
      },
      "execution_count": null,
      "outputs": []
    }
  ]
}